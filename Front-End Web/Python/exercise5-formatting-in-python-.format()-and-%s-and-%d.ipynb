{
 "cells": [
  {
   "cell_type": "code",
   "execution_count": 1,
   "id": "d4d87f15",
   "metadata": {},
   "outputs": [],
   "source": [
    "fruit = 'Orange'"
   ]
  },
  {
   "cell_type": "code",
   "execution_count": 2,
   "id": "891560c5",
   "metadata": {},
   "outputs": [
    {
     "name": "stdout",
     "output_type": "stream",
     "text": [
      "Orange Juice is my favorite!\n"
     ]
    }
   ],
   "source": [
    "print('%s Juice is my favorite!' %fruit)"
   ]
  },
  {
   "cell_type": "code",
   "execution_count": 3,
   "id": "b6fdd979",
   "metadata": {},
   "outputs": [],
   "source": [
    "fruit = 'Lemon'"
   ]
  },
  {
   "cell_type": "code",
   "execution_count": 4,
   "id": "940e8851",
   "metadata": {},
   "outputs": [
    {
     "name": "stdout",
     "output_type": "stream",
     "text": [
      "Lemon Juice is my favorite!\n"
     ]
    }
   ],
   "source": [
    "print('%s Juice is my favorite!' %fruit)"
   ]
  },
  {
   "cell_type": "code",
   "execution_count": 6,
   "id": "74b41506",
   "metadata": {},
   "outputs": [],
   "source": [
    "fruit = 8"
   ]
  },
  {
   "cell_type": "code",
   "execution_count": 7,
   "id": "822adbb5",
   "metadata": {},
   "outputs": [
    {
     "data": {
      "text/plain": [
       "int"
      ]
     },
     "execution_count": 7,
     "metadata": {},
     "output_type": "execute_result"
    }
   ],
   "source": [
    "type(fruit)"
   ]
  },
  {
   "cell_type": "code",
   "execution_count": 8,
   "id": "521846ff",
   "metadata": {},
   "outputs": [
    {
     "name": "stdout",
     "output_type": "stream",
     "text": [
      "8 Juice is my favorite!\n"
     ]
    }
   ],
   "source": [
    "print('%d Juice is my favorite!' %fruit)"
   ]
  },
  {
   "cell_type": "code",
   "execution_count": 9,
   "id": "721def03",
   "metadata": {},
   "outputs": [],
   "source": [
    "fruit = 8.5"
   ]
  },
  {
   "cell_type": "code",
   "execution_count": 10,
   "id": "cc0f4798",
   "metadata": {},
   "outputs": [
    {
     "data": {
      "text/plain": [
       "float"
      ]
     },
     "execution_count": 10,
     "metadata": {},
     "output_type": "execute_result"
    }
   ],
   "source": [
    "type(fruit)"
   ]
  },
  {
   "cell_type": "code",
   "execution_count": 11,
   "id": "9693b0b5",
   "metadata": {},
   "outputs": [
    {
     "name": "stdout",
     "output_type": "stream",
     "text": [
      "8.500000 Juice is my favorite!\n"
     ]
    }
   ],
   "source": [
    "print('%f Juice is my favorite!' %fruit)"
   ]
  },
  {
   "cell_type": "code",
   "execution_count": 12,
   "id": "db10c966",
   "metadata": {},
   "outputs": [],
   "source": [
    "fruit = 'Orange'"
   ]
  },
  {
   "cell_type": "code",
   "execution_count": 13,
   "id": "34c57dd0",
   "metadata": {},
   "outputs": [
    {
     "name": "stdout",
     "output_type": "stream",
     "text": [
      "Orange Juice is my favorite!\n"
     ]
    }
   ],
   "source": [
    "# Variable .float()\n",
    "print('{} Juice is my favorite!'.format(fruit))"
   ]
  },
  {
   "cell_type": "code",
   "execution_count": 15,
   "id": "c962c6b2",
   "metadata": {},
   "outputs": [],
   "source": [
    "color1 = 'blue'\n",
    "color2 = 'pink'"
   ]
  },
  {
   "cell_type": "code",
   "execution_count": 16,
   "id": "c5a3ee9b",
   "metadata": {},
   "outputs": [
    {
     "name": "stdout",
     "output_type": "stream",
     "text": [
      "The sky is blue, the flower is pink and my car is blue\n"
     ]
    }
   ],
   "source": [
    "print('The sky is {0}, the flower is {1} and my car is {0}'.format(color1,color2))"
   ]
  },
  {
   "cell_type": "code",
   "execution_count": 17,
   "id": "ee086a6d",
   "metadata": {},
   "outputs": [
    {
     "name": "stdout",
     "output_type": "stream",
     "text": [
      "The sky is pink, the flower is blue and my car is blue\n"
     ]
    }
   ],
   "source": [
    "print('The sky is {1}, the flower is {0} and my car is {0}'.format(color1,color2))"
   ]
  },
  {
   "cell_type": "code",
   "execution_count": 18,
   "id": "9120ec04",
   "metadata": {},
   "outputs": [
    {
     "name": "stdout",
     "output_type": "stream",
     "text": [
      "5.666666666666667\n"
     ]
    }
   ],
   "source": [
    "bill = 17/3\n",
    "print(bill)"
   ]
  },
  {
   "cell_type": "code",
   "execution_count": 19,
   "id": "766f7a0a",
   "metadata": {},
   "outputs": [
    {
     "name": "stdout",
     "output_type": "stream",
     "text": [
      "The bill result is: 5.666666666666667\n"
     ]
    }
   ],
   "source": [
    "print('The bill result is: {}'.format(bill))"
   ]
  },
  {
   "cell_type": "code",
   "execution_count": 20,
   "id": "a1c800fa",
   "metadata": {},
   "outputs": [
    {
     "name": "stdout",
     "output_type": "stream",
     "text": [
      "The bill result is: 5.67\n"
     ]
    }
   ],
   "source": [
    "# Using 2 decimal places after the comma\n",
    "print('The bill result is: {:.2f}'.format(bill))"
   ]
  },
  {
   "cell_type": "code",
   "execution_count": 21,
   "id": "613ee0e8",
   "metadata": {},
   "outputs": [
    {
     "name": "stdout",
     "output_type": "stream",
     "text": [
      "The bill result is: 5.66667\n"
     ]
    }
   ],
   "source": [
    "# Using 5 decimal places after the comma\n",
    "print('The bill result is: {:.5f}'.format(bill))"
   ]
  },
  {
   "cell_type": "code",
   "execution_count": null,
   "id": "bc6b907c",
   "metadata": {},
   "outputs": [],
   "source": []
  }
 ],
 "metadata": {
  "kernelspec": {
   "display_name": "Python 3 (ipykernel)",
   "language": "python",
   "name": "python3"
  },
  "language_info": {
   "codemirror_mode": {
    "name": "ipython",
    "version": 3
   },
   "file_extension": ".py",
   "mimetype": "text/x-python",
   "name": "python",
   "nbconvert_exporter": "python",
   "pygments_lexer": "ipython3",
   "version": "3.9.12"
  }
 },
 "nbformat": 4,
 "nbformat_minor": 5
}
