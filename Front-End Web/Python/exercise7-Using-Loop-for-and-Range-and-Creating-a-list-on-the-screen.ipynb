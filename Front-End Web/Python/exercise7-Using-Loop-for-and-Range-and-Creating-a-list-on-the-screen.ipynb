{
 "cells": [
  {
   "cell_type": "code",
   "execution_count": 2,
   "id": "3bd95d64",
   "metadata": {},
   "outputs": [
    {
     "name": "stdout",
     "output_type": "stream",
     "text": [
      "0\n",
      "1\n",
      "2\n",
      "3\n",
      "4\n"
     ]
    }
   ],
   "source": [
    "# Rage tells me how many times I should perform an action, in this case, print the numbers: 0 to 4\n",
    "for i in range(5):\n",
    "    print(i)"
   ]
  },
  {
   "cell_type": "code",
   "execution_count": 3,
   "id": "76977350",
   "metadata": {},
   "outputs": [
    {
     "name": "stdout",
     "output_type": "stream",
     "text": [
      "I will learn!\n",
      "I will learn!\n",
      "I will learn!\n",
      "I will learn!\n",
      "I will learn!\n"
     ]
    }
   ],
   "source": [
    "# Rage tells me how many times I should perform an action, in this case, print the numbers: 0 to 4\n",
    "for i in range(5):\n",
    "    print('I will learn!')"
   ]
  },
  {
   "cell_type": "code",
   "execution_count": 4,
   "id": "abc273ef",
   "metadata": {},
   "outputs": [
    {
     "name": "stdout",
     "output_type": "stream",
     "text": [
      "0\n",
      "2\n",
      "4\n",
      "6\n",
      "8\n"
     ]
    }
   ],
   "source": [
    "# Rage tells me how many times I should perform an action, in this case, print the numbers: 0 to 4\n",
    "for i in range(5):\n",
    "    print(i*2)"
   ]
  },
  {
   "cell_type": "code",
   "execution_count": 6,
   "id": "756aa586",
   "metadata": {},
   "outputs": [
    {
     "name": "stdout",
     "output_type": "stream",
     "text": [
      "5\n"
     ]
    }
   ],
   "source": [
    "# Rage tells me how many times I should perform an action, in this case, print the numbers: 0 to 4\n",
    "a = 0\n",
    "for i in range(5):\n",
    "    a = a + 1\n",
    "print(a)"
   ]
  },
  {
   "cell_type": "code",
   "execution_count": 7,
   "id": "ae92b9ac",
   "metadata": {},
   "outputs": [
    {
     "name": "stdout",
     "output_type": "stream",
     "text": [
      "Phrase\n",
      "Phrase\n",
      "Phrase\n",
      "Phrase\n",
      "Phrase\n",
      "Phrase\n",
      "Phrase\n",
      "Phrase\n"
     ]
    }
   ],
   "source": [
    "# Rage tells me how many times I should perform an action, in this case, print the numbers: 0 to b\n",
    "a = 0\n",
    "b = 8\n",
    "for i in range(b):\n",
    "    print('Phrase')"
   ]
  },
  {
   "cell_type": "code",
   "execution_count": 8,
   "id": "a28c74bc",
   "metadata": {},
   "outputs": [
    {
     "name": "stdout",
     "output_type": "stream",
     "text": [
      "M\n",
      "a\n",
      "t\n",
      "h\n"
     ]
    }
   ],
   "source": [
    "word = 'Math'\n",
    "for i in word:\n",
    "    print(i)"
   ]
  },
  {
   "cell_type": "code",
   "execution_count": 9,
   "id": "12c8e10c",
   "metadata": {},
   "outputs": [
    {
     "ename": "NameError",
     "evalue": "name 'dfhdgsdgs' is not defined",
     "output_type": "error",
     "traceback": [
      "\u001b[1;31m---------------------------------------------------------------------------\u001b[0m",
      "\u001b[1;31mNameError\u001b[0m                                 Traceback (most recent call last)",
      "Input \u001b[1;32mIn [9]\u001b[0m, in \u001b[0;36m<cell line: 2>\u001b[1;34m()\u001b[0m\n\u001b[0;32m      1\u001b[0m word \u001b[38;5;241m=\u001b[39m \u001b[38;5;124m'\u001b[39m\u001b[38;5;124mMath\u001b[39m\u001b[38;5;124m'\u001b[39m\n\u001b[0;32m      2\u001b[0m \u001b[38;5;28;01mfor\u001b[39;00m dafgdfgdsvc \u001b[38;5;129;01min\u001b[39;00m word:\n\u001b[1;32m----> 3\u001b[0m     \u001b[38;5;28mprint\u001b[39m(\u001b[43mdfhdgsdgs\u001b[49m)\n",
      "\u001b[1;31mNameError\u001b[0m: name 'dfhdgsdgs' is not defined"
     ]
    }
   ],
   "source": [
    "word = 'Math'\n",
    "for dafgdfgdsvc in word:\n",
    "    print(dfhdgsdgs)"
   ]
  },
  {
   "cell_type": "code",
   "execution_count": 10,
   "id": "5e0553f9",
   "metadata": {},
   "outputs": [
    {
     "name": "stdout",
     "output_type": "stream",
     "text": [
      "2\n",
      "54\n",
      "8\n",
      "10\n",
      "4\n",
      "4\n"
     ]
    }
   ],
   "source": [
    "# Using a list\n",
    "list = [2, 54, 8, 10, 4, 4]\n",
    "for num in list:\n",
    "    print(num)"
   ]
  },
  {
   "cell_type": "code",
   "execution_count": 11,
   "id": "8d935157",
   "metadata": {},
   "outputs": [
    {
     "name": "stdout",
     "output_type": "stream",
     "text": [
      "2\n",
      "Hi\n",
      "8\n",
      "10\n",
      "4\n",
      "4\n"
     ]
    }
   ],
   "source": [
    "# Using a list\n",
    "list = [2, 'Hi', 8, 10, 4, 4]\n",
    "for num in list:\n",
    "    print(num)"
   ]
  },
  {
   "cell_type": "code",
   "execution_count": null,
   "id": "050b7d63",
   "metadata": {},
   "outputs": [],
   "source": []
  }
 ],
 "metadata": {
  "kernelspec": {
   "display_name": "Python 3 (ipykernel)",
   "language": "python",
   "name": "python3"
  },
  "language_info": {
   "codemirror_mode": {
    "name": "ipython",
    "version": 3
   },
   "file_extension": ".py",
   "mimetype": "text/x-python",
   "name": "python",
   "nbconvert_exporter": "python",
   "pygments_lexer": "ipython3",
   "version": "3.9.12"
  }
 },
 "nbformat": 4,
 "nbformat_minor": 5
}
