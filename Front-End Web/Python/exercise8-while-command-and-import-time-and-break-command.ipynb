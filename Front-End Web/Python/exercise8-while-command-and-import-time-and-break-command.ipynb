{
 "cells": [
  {
   "cell_type": "code",
   "execution_count": 1,
   "id": "ee7dd7e1",
   "metadata": {},
   "outputs": [
    {
     "name": "stdout",
     "output_type": "stream",
     "text": [
      "Not yet\n",
      "Not yet\n",
      "Not yet\n",
      "Not yet\n",
      "Not yet\n",
      "Not yet\n",
      "Not yet\n",
      "Not yet\n",
      "Not yet\n",
      "Not yet\n",
      "Now it worked!\n"
     ]
    }
   ],
   "source": [
    "# Using While\n",
    "count = 0\n",
    "while count < 10:\n",
    "    print('Not yet')\n",
    "    # Checking the while function\n",
    "    count = count + 1\n",
    "print('Now it worked!')"
   ]
  },
  {
   "cell_type": "code",
   "execution_count": 2,
   "id": "46c2014f",
   "metadata": {},
   "outputs": [
    {
     "name": "stdout",
     "output_type": "stream",
     "text": [
      "Not yet\n",
      "Not yet\n",
      "Not yet\n",
      "Not yet\n",
      "Not yet\n",
      "Not yet\n",
      "Not yet\n",
      "Not yet\n",
      "Not yet\n",
      "Not yet\n",
      "Now it worked!\n"
     ]
    }
   ],
   "source": [
    "# Using While\n",
    "# Using import time\n",
    "import time\n",
    "count = 0\n",
    "while count < 10:\n",
    "    print('Not yet')\n",
    "    # Checking the while function\n",
    "    count = count + 1\n",
    "    # Wait 1 second for the while function to return\n",
    "    time.sleep(1)\n",
    "print('Now it worked!')"
   ]
  },
  {
   "cell_type": "code",
   "execution_count": 3,
   "id": "22133549",
   "metadata": {},
   "outputs": [
    {
     "name": "stdout",
     "output_type": "stream",
     "text": [
      "Not yet\n",
      "Not yet\n",
      "Not yet\n",
      "Not yet\n",
      "Not yet\n",
      "Not yet\n",
      "Now it worked!\n"
     ]
    }
   ],
   "source": [
    "# Using While\n",
    "# Using import time\n",
    "# Using Break\n",
    "import time\n",
    "count = 0\n",
    "while count < 10:\n",
    "    print('Not yet')\n",
    "    # Checking the while function\n",
    "    count = count + 1\n",
    "    # Using break command\n",
    "    if count == 6:\n",
    "        break\n",
    "    # Wait 1 second for the while function to return\n",
    "    time.sleep(1)\n",
    "print('Now it worked!')"
   ]
  },
  {
   "cell_type": "code",
   "execution_count": 10,
   "id": "bdaacae2",
   "metadata": {},
   "outputs": [
    {
     "name": "stdout",
     "output_type": "stream",
     "text": [
      "Enter a number: 20\n",
      "20! = 2432902008176640000\n"
     ]
    }
   ],
   "source": [
    "# Special Exercise\n",
    "number = int(input('Enter a number: '))\n",
    "factorial = number\n",
    "count = 1\n",
    "while (number-count)>1:\n",
    "    factorial = factorial*(number-count)\n",
    "    count += 1\n",
    "print('{0}! = {1}'.format(number,factorial))"
   ]
  },
  {
   "cell_type": "code",
   "execution_count": null,
   "id": "e256b560",
   "metadata": {},
   "outputs": [],
   "source": []
  }
 ],
 "metadata": {
  "kernelspec": {
   "display_name": "Python 3 (ipykernel)",
   "language": "python",
   "name": "python3"
  },
  "language_info": {
   "codemirror_mode": {
    "name": "ipython",
    "version": 3
   },
   "file_extension": ".py",
   "mimetype": "text/x-python",
   "name": "python",
   "nbconvert_exporter": "python",
   "pygments_lexer": "ipython3",
   "version": "3.9.12"
  }
 },
 "nbformat": 4,
 "nbformat_minor": 5
}
