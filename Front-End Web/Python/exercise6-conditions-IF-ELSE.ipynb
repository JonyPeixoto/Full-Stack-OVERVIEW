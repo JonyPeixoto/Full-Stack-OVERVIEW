{
 "cells": [
  {
   "cell_type": "code",
   "execution_count": 1,
   "id": "5a2cd202",
   "metadata": {},
   "outputs": [
    {
     "name": "stdout",
     "output_type": "stream",
     "text": [
      "It has a lot of calories!\n"
     ]
    }
   ],
   "source": [
    "# The concept is \"If this is true then do that\"\n",
    "food = 'pizza'\n",
    "if food == 'pizza':\n",
    "    print('It has a lot of calories!')"
   ]
  },
  {
   "cell_type": "code",
   "execution_count": 2,
   "id": "c40c5bda",
   "metadata": {},
   "outputs": [
    {
     "name": "stdout",
     "output_type": "stream",
     "text": [
      "It has a lot of calories!\n"
     ]
    }
   ],
   "source": [
    "# The concept is \"If this is true then do that\"\n",
    "food = 'pizza'\n",
    "if food == 'pizza':\n",
    "    print('It has a lot of calories!')\n",
    "else:\n",
    "    print('I do not know the calories!')"
   ]
  },
  {
   "cell_type": "code",
   "execution_count": 4,
   "id": "52dc844e",
   "metadata": {},
   "outputs": [
    {
     "name": "stdout",
     "output_type": "stream",
     "text": [
      "I do not know the calories!\n"
     ]
    }
   ],
   "source": [
    "# The concept is \"If this is true then do that\"\n",
    "food = 'pasta'\n",
    "if food == 'pizza':\n",
    "    print('It has a lot of calories!')\n",
    "else:\n",
    "    print('I do not know the calories!')"
   ]
  },
  {
   "cell_type": "code",
   "execution_count": 8,
   "id": "dd841e21",
   "metadata": {},
   "outputs": [
    {
     "name": "stdout",
     "output_type": "stream",
     "text": [
      "I don not know the calories!\n"
     ]
    }
   ],
   "source": [
    "# The concept is \"If this is true then do that\"\n",
    "food = 'pasta'\n",
    "if food == 'pizza':\n",
    "    print('It has a lot of calories!')\n",
    "elif food == 'pumpkin':\n",
    "    print('It has few calories!')\n",
    "elif food == 'barbecue':\n",
    "    print('It has a lot of calories!')\n",
    "elif food == 'melon':\n",
    "    print('It has few calories!')\n",
    "else:\n",
    "    print('I don not know the calories!')"
   ]
  },
  {
   "cell_type": "code",
   "execution_count": 9,
   "id": "655679c9",
   "metadata": {},
   "outputs": [
    {
     "name": "stdout",
     "output_type": "stream",
     "text": [
      "It has few calories!\n"
     ]
    }
   ],
   "source": [
    "# The concept is \"If this is true then do that\"\n",
    "food = 'pumpkin'\n",
    "if food == 'pizza':\n",
    "    print('It has a lot of calories!')\n",
    "elif food == 'pumpkin':\n",
    "    print('It has few calories!')\n",
    "elif food == 'barbecue':\n",
    "    print('It has a lot of calories!')\n",
    "elif food == 'melon':\n",
    "    print('It has few calories!')\n",
    "else:\n",
    "    print('I don not know the calories!')"
   ]
  },
  {
   "cell_type": "code",
   "execution_count": 10,
   "id": "2a592540",
   "metadata": {},
   "outputs": [
    {
     "name": "stdout",
     "output_type": "stream",
     "text": [
      "It has few calories!\n"
     ]
    }
   ],
   "source": [
    "# The concept is \"If this is true then do that\"\n",
    "food = 'melon'\n",
    "if food == 'pizza':\n",
    "    print('It has a lot of calories!')\n",
    "elif food == 'pumpkin':\n",
    "    print('It has few calories!')\n",
    "elif food == 'barbecue':\n",
    "    print('It has a lot of calories!')\n",
    "elif food == 'melon':\n",
    "    print('It has few calories!')\n",
    "else:\n",
    "    print('I don not know the calories!')"
   ]
  },
  {
   "cell_type": "code",
   "execution_count": 11,
   "id": "a52d027c",
   "metadata": {},
   "outputs": [
    {
     "name": "stdout",
     "output_type": "stream",
     "text": [
      "It has a lot of calories!\n"
     ]
    }
   ],
   "source": [
    "# The concept is \"If this is true then do that\"\n",
    "food = 'barbecue'\n",
    "if food == 'pizza':\n",
    "    print('It has a lot of calories!')\n",
    "elif food == 'pumpkin':\n",
    "    print('It has few calories!')\n",
    "elif food == 'barbecue':\n",
    "    print('It has a lot of calories!')\n",
    "elif food == 'melon':\n",
    "    print('It has few calories!')\n",
    "else:\n",
    "    print('I don not know the calories!')"
   ]
  },
  {
   "cell_type": "code",
   "execution_count": 15,
   "id": "f09ac75b",
   "metadata": {},
   "outputs": [
    {
     "name": "stdout",
     "output_type": "stream",
     "text": [
      "It is pizza!\n"
     ]
    }
   ],
   "source": [
    "# Using the different symbol\n",
    "food = 'pizza'\n",
    "if food != 'pizza':\n",
    "    print('It is not pizza!')\n",
    "else:\n",
    "    print('It is pizza!')"
   ]
  },
  {
   "cell_type": "code",
   "execution_count": 14,
   "id": "a94f8858",
   "metadata": {},
   "outputs": [
    {
     "name": "stdout",
     "output_type": "stream",
     "text": [
      "It is not pizza!\n"
     ]
    }
   ],
   "source": [
    "# Using the different symbol\n",
    "food = 'beet'\n",
    "if food != 'pizza':\n",
    "    print('It is not pizza!')\n",
    "else:\n",
    "    print('It is pizza!')"
   ]
  },
  {
   "cell_type": "code",
   "execution_count": 17,
   "id": "1f891ef3",
   "metadata": {},
   "outputs": [
    {
     "name": "stdout",
     "output_type": "stream",
     "text": [
      "What year were you born ?1996\n",
      "You are adult!\n"
     ]
    }
   ],
   "source": [
    "# Special Exercise \n",
    "# Using Greater than or equal to, Less than or equal to >= , <=\n",
    "year = int(input('What year were you born ?'))\n",
    "age = 2022 - year\n",
    "if age >= 18:\n",
    "    print('You are adult!')\n",
    "else: \n",
    "    print('You are not yet an adult!')"
   ]
  },
  {
   "cell_type": "code",
   "execution_count": 18,
   "id": "211aa121",
   "metadata": {},
   "outputs": [
    {
     "name": "stdout",
     "output_type": "stream",
     "text": [
      "What year were you born ?2005\n",
      "You are not yet an adult!\n"
     ]
    }
   ],
   "source": [
    "# Special Exercise \n",
    "# Using Greater than or equal to, Less than or equal to >= , <=\n",
    "year = int(input('What year were you born ?'))\n",
    "age = 2022 - year\n",
    "if age >= 18:\n",
    "    print('You are adult!')\n",
    "else: \n",
    "    print('You are not yet an adult!')"
   ]
  },
  {
   "cell_type": "code",
   "execution_count": 19,
   "id": "84ebb726",
   "metadata": {},
   "outputs": [
    {
     "name": "stdout",
     "output_type": "stream",
     "text": [
      "What year were you born ?1960\n",
      "You are adult!\n"
     ]
    }
   ],
   "source": [
    "# Special Exercise \n",
    "# Using Greater than or equal to, Less than or equal to >= , <=\n",
    "year = int(input('What year were you born ?'))\n",
    "age = 2022 - year\n",
    "if age >= 18:\n",
    "    print('You are adult!')\n",
    "else: \n",
    "    print('You are not yet an adult!')"
   ]
  },
  {
   "cell_type": "code",
   "execution_count": 20,
   "id": "ac0e63a1",
   "metadata": {},
   "outputs": [
    {
     "name": "stdout",
     "output_type": "stream",
     "text": [
      "What year were you born ?2006\n",
      "You are not yet an adult!\n"
     ]
    }
   ],
   "source": [
    "# Special Exercise \n",
    "# Using Greater than or equal to, Less than or equal to >= , <=\n",
    "year = int(input('What year were you born ?'))\n",
    "age = 2022 - year\n",
    "if age >= 18:\n",
    "    print('You are adult!')\n",
    "else: \n",
    "    print('You are not yet an adult!')"
   ]
  }
 ],
 "metadata": {
  "kernelspec": {
   "display_name": "Python 3 (ipykernel)",
   "language": "python",
   "name": "python3"
  },
  "language_info": {
   "codemirror_mode": {
    "name": "ipython",
    "version": 3
   },
   "file_extension": ".py",
   "mimetype": "text/x-python",
   "name": "python",
   "nbconvert_exporter": "python",
   "pygments_lexer": "ipython3",
   "version": "3.9.12"
  }
 },
 "nbformat": 4,
 "nbformat_minor": 5
}
