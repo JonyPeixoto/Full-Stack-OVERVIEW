{
 "cells": [
  {
   "cell_type": "code",
   "execution_count": 2,
   "id": "00b166f5",
   "metadata": {},
   "outputs": [],
   "source": [
    "# Creating functions\n",
    "# \\n is used to break the line\n",
    "def happybirthday():\n",
    "    print('Happy birthday to you\\n On that date dear\\n Best wishes\\n Many years of life\\n')"
   ]
  },
  {
   "cell_type": "code",
   "execution_count": 3,
   "id": "b0761a51",
   "metadata": {},
   "outputs": [
    {
     "name": "stdout",
     "output_type": "stream",
     "text": [
      "Happy birthday to you\n",
      " On that date dear\n",
      " Best wishes\n",
      " Many years of life\n",
      "\n"
     ]
    }
   ],
   "source": [
    "happybirthday()"
   ]
  },
  {
   "cell_type": "code",
   "execution_count": 4,
   "id": "4daaee43",
   "metadata": {},
   "outputs": [],
   "source": [
    "def hasLetterU():\n",
    "    phrase = input('Enter a sentence: ')\n",
    "    if 'u' in phrase:\n",
    "        print('You used the letter u')\n",
    "    else:\n",
    "        print('You did not used the letter u')"
   ]
  },
  {
   "cell_type": "code",
   "execution_count": 5,
   "id": "3fdd8c87",
   "metadata": {},
   "outputs": [
    {
     "name": "stdout",
     "output_type": "stream",
     "text": [
      "Enter a sentence: Today it is beautiful day!\n",
      "You used the letter u\n"
     ]
    }
   ],
   "source": [
    "hasLetterU()"
   ]
  },
  {
   "cell_type": "code",
   "execution_count": 6,
   "id": "31cf90df",
   "metadata": {},
   "outputs": [
    {
     "name": "stdout",
     "output_type": "stream",
     "text": [
      "Enter a sentence: Today is the day!\n",
      "You did not used the letter u\n"
     ]
    }
   ],
   "source": [
    "hasLetterU()"
   ]
  },
  {
   "cell_type": "code",
   "execution_count": 7,
   "id": "d234b5b4",
   "metadata": {},
   "outputs": [],
   "source": [
    "def sumSquares(a,b):\n",
    "    sumQ = a**2 + b**2\n",
    "    return sumQ"
   ]
  },
  {
   "cell_type": "code",
   "execution_count": 9,
   "id": "0c80417b",
   "metadata": {},
   "outputs": [
    {
     "data": {
      "text/plain": [
       "13"
      ]
     },
     "execution_count": 9,
     "metadata": {},
     "output_type": "execute_result"
    }
   ],
   "source": [
    "sumSquares(2,3)"
   ]
  },
  {
   "cell_type": "code",
   "execution_count": null,
   "id": "f3c86458",
   "metadata": {},
   "outputs": [],
   "source": []
  }
 ],
 "metadata": {
  "kernelspec": {
   "display_name": "Python 3 (ipykernel)",
   "language": "python",
   "name": "python3"
  },
  "language_info": {
   "codemirror_mode": {
    "name": "ipython",
    "version": 3
   },
   "file_extension": ".py",
   "mimetype": "text/x-python",
   "name": "python",
   "nbconvert_exporter": "python",
   "pygments_lexer": "ipython3",
   "version": "3.9.12"
  }
 },
 "nbformat": 4,
 "nbformat_minor": 5
}
