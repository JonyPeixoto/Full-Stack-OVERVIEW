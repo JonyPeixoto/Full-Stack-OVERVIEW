{
 "cells": [
  {
   "cell_type": "code",
   "execution_count": 1,
   "id": "5fd3f522",
   "metadata": {},
   "outputs": [
    {
     "name": "stdout",
     "output_type": "stream",
     "text": [
      "8\n",
      "10\n",
      "6.333333333333333\n",
      "16\n"
     ]
    }
   ],
   "source": [
    "print(10-2)\n",
    "print(5*2)\n",
    "print(19/3)\n",
    "print(2**4)"
   ]
  },
  {
   "cell_type": "code",
   "execution_count": 2,
   "id": "39af20a1",
   "metadata": {},
   "outputs": [
    {
     "name": "stdout",
     "output_type": "stream",
     "text": [
      "2\n"
     ]
    }
   ],
   "source": [
    "# Division integer\n",
    "print(5//2)"
   ]
  },
  {
   "cell_type": "code",
   "execution_count": 3,
   "id": "b569d2a1",
   "metadata": {},
   "outputs": [
    {
     "name": "stdout",
     "output_type": "stream",
     "text": [
      "1\n"
     ]
    }
   ],
   "source": [
    "# Rest of Division\n",
    "print(5%2)"
   ]
  },
  {
   "cell_type": "code",
   "execution_count": null,
   "id": "326acfef",
   "metadata": {},
   "outputs": [],
   "source": []
  }
 ],
 "metadata": {
  "kernelspec": {
   "display_name": "Python 3 (ipykernel)",
   "language": "python",
   "name": "python3"
  },
  "language_info": {
   "codemirror_mode": {
    "name": "ipython",
    "version": 3
   },
   "file_extension": ".py",
   "mimetype": "text/x-python",
   "name": "python",
   "nbconvert_exporter": "python",
   "pygments_lexer": "ipython3",
   "version": "3.9.12"
  }
 },
 "nbformat": 4,
 "nbformat_minor": 5
}
