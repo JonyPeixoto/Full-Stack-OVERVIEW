{
 "cells": [
  {
   "cell_type": "code",
   "execution_count": 1,
   "id": "9f654864",
   "metadata": {},
   "outputs": [],
   "source": [
    "# \"a\" is getting the value of 8\n",
    "a = 8\n"
   ]
  },
  {
   "cell_type": "code",
   "execution_count": 2,
   "id": "3b9d8094",
   "metadata": {},
   "outputs": [
    {
     "data": {
      "text/plain": [
       "True"
      ]
     },
     "execution_count": 2,
     "metadata": {},
     "output_type": "execute_result"
    }
   ],
   "source": [
    "# Checking if \"a\" is equal to 8\n",
    "a == 8"
   ]
  },
  {
   "cell_type": "code",
   "execution_count": 3,
   "id": "b8585676",
   "metadata": {},
   "outputs": [
    {
     "data": {
      "text/plain": [
       "False"
      ]
     },
     "execution_count": 3,
     "metadata": {},
     "output_type": "execute_result"
    }
   ],
   "source": [
    "# Checking if \"a\" is equal to 8\n",
    "a == 3"
   ]
  },
  {
   "cell_type": "code",
   "execution_count": 4,
   "id": "6eb13f0c",
   "metadata": {},
   "outputs": [
    {
     "ename": "NameError",
     "evalue": "name 'b' is not defined",
     "output_type": "error",
     "traceback": [
      "\u001b[1;31m---------------------------------------------------------------------------\u001b[0m",
      "\u001b[1;31mNameError\u001b[0m                                 Traceback (most recent call last)",
      "Input \u001b[1;32mIn [4]\u001b[0m, in \u001b[0;36m<cell line: 1>\u001b[1;34m()\u001b[0m\n\u001b[1;32m----> 1\u001b[0m \u001b[43mb\u001b[49m \u001b[38;5;241m==\u001b[39m \u001b[38;5;241m6\u001b[39m\n\u001b[0;32m      2\u001b[0m c \u001b[38;5;241m=\u001b[39m a \u001b[38;5;241m+\u001b[39m b\n",
      "\u001b[1;31mNameError\u001b[0m: name 'b' is not defined"
     ]
    }
   ],
   "source": [
    "b == 6\n",
    "c = a + b"
   ]
  },
  {
   "cell_type": "code",
   "execution_count": 8,
   "id": "09d3f52c",
   "metadata": {},
   "outputs": [
    {
     "name": "stdout",
     "output_type": "stream",
     "text": [
      "14\n"
     ]
    }
   ],
   "source": [
    "b = 6\n",
    "c = a + b\n",
    "print(c)"
   ]
  },
  {
   "cell_type": "code",
   "execution_count": 6,
   "id": "22a953f1",
   "metadata": {},
   "outputs": [
    {
     "name": "stdout",
     "output_type": "stream",
     "text": [
      "5\n"
     ]
    }
   ],
   "source": [
    "# Variables must start with a lowercase letter and a variable can enter letter and number\n",
    "# Repeated variables Python understands the last assigned value\n",
    "variable1 = 3\n",
    "variable2 = 1\n",
    "variable1 = 5\n",
    "print(variable1)"
   ]
  },
  {
   "cell_type": "code",
   "execution_count": 10,
   "id": "c86ff2b2",
   "metadata": {},
   "outputs": [],
   "source": [
    "# Repeated variables Python understands the last assigned value\n",
    "b = 11"
   ]
  },
  {
   "cell_type": "code",
   "execution_count": 11,
   "id": "d61faf41",
   "metadata": {},
   "outputs": [
    {
     "name": "stdout",
     "output_type": "stream",
     "text": [
      "11\n"
     ]
    }
   ],
   "source": [
    "print(b)"
   ]
  },
  {
   "cell_type": "code",
   "execution_count": 12,
   "id": "26ebd32b",
   "metadata": {},
   "outputs": [],
   "source": [
    "# Data types\n",
    "var = 4\n",
    "var2 = 2.5"
   ]
  },
  {
   "cell_type": "code",
   "execution_count": 13,
   "id": "e0d71d61",
   "metadata": {},
   "outputs": [
    {
     "data": {
      "text/plain": [
       "int"
      ]
     },
     "execution_count": 13,
     "metadata": {},
     "output_type": "execute_result"
    }
   ],
   "source": [
    "# Identifying the type of variable\n",
    "type(var)"
   ]
  },
  {
   "cell_type": "code",
   "execution_count": 14,
   "id": "af55e47d",
   "metadata": {},
   "outputs": [
    {
     "data": {
      "text/plain": [
       "float"
      ]
     },
     "execution_count": 14,
     "metadata": {},
     "output_type": "execute_result"
    }
   ],
   "source": [
    "# Identifying the type of variable\n",
    "type(var2)"
   ]
  },
  {
   "cell_type": "code",
   "execution_count": 15,
   "id": "8f49f99f",
   "metadata": {},
   "outputs": [],
   "source": [
    "word = 'Phrase 1'"
   ]
  },
  {
   "cell_type": "code",
   "execution_count": 16,
   "id": "e758c90a",
   "metadata": {},
   "outputs": [
    {
     "data": {
      "text/plain": [
       "str"
      ]
     },
     "execution_count": 16,
     "metadata": {},
     "output_type": "execute_result"
    }
   ],
   "source": [
    "# Identifying the type of variable\n",
    "type(word)"
   ]
  },
  {
   "cell_type": "code",
   "execution_count": 17,
   "id": "b9de92ab",
   "metadata": {},
   "outputs": [
    {
     "name": "stdout",
     "output_type": "stream",
     "text": [
      "6.5\n"
     ]
    }
   ],
   "source": [
    "print(var + var2)"
   ]
  },
  {
   "cell_type": "code",
   "execution_count": 18,
   "id": "b1301c33",
   "metadata": {},
   "outputs": [
    {
     "ename": "TypeError",
     "evalue": "unsupported operand type(s) for +: 'int' and 'str'",
     "output_type": "error",
     "traceback": [
      "\u001b[1;31m---------------------------------------------------------------------------\u001b[0m",
      "\u001b[1;31mTypeError\u001b[0m                                 Traceback (most recent call last)",
      "Input \u001b[1;32mIn [18]\u001b[0m, in \u001b[0;36m<cell line: 1>\u001b[1;34m()\u001b[0m\n\u001b[1;32m----> 1\u001b[0m \u001b[38;5;28mprint\u001b[39m(\u001b[43mvar\u001b[49m\u001b[43m \u001b[49m\u001b[38;5;241;43m+\u001b[39;49m\u001b[43m \u001b[49m\u001b[43mword\u001b[49m)\n",
      "\u001b[1;31mTypeError\u001b[0m: unsupported operand type(s) for +: 'int' and 'str'"
     ]
    }
   ],
   "source": [
    "print(var + word)"
   ]
  },
  {
   "cell_type": "code",
   "execution_count": null,
   "id": "6d46db34",
   "metadata": {},
   "outputs": [],
   "source": []
  }
 ],
 "metadata": {
  "kernelspec": {
   "display_name": "Python 3 (ipykernel)",
   "language": "python",
   "name": "python3"
  },
  "language_info": {
   "codemirror_mode": {
    "name": "ipython",
    "version": 3
   },
   "file_extension": ".py",
   "mimetype": "text/x-python",
   "name": "python",
   "nbconvert_exporter": "python",
   "pygments_lexer": "ipython3",
   "version": "3.9.12"
  }
 },
 "nbformat": 4,
 "nbformat_minor": 5
}
